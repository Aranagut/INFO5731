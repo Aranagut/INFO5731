{
  "cells": [
    {
      "cell_type": "markdown",
      "metadata": {
        "id": "view-in-github",
        "colab_type": "text"
      },
      "source": [
        "<a href=\"https://colab.research.google.com/github/Aranagut/INFO5731/blob/main/INFO5731_Assignment_One_fall2022.ipynb\" target=\"_parent\"><img src=\"https://colab.research.google.com/assets/colab-badge.svg\" alt=\"Open In Colab\"/></a>"
      ]
    },
    {
      "cell_type": "markdown",
      "metadata": {
        "id": "Ryk8D1Q4Wsrp"
      },
      "source": [
        "# **INFO5731 Assignment One**"
      ]
    },
    {
      "cell_type": "markdown",
      "metadata": {
        "id": "90_NR8c5XGWc"
      },
      "source": [
        "# Question 1\n",
        "\n",
        "(20 points). Write a Python program to generate 12 random numbers between 1 and 100. Sort the list of numbers in ascending order and print it out. Sort the list of numbers in descending order and print it out. Calculate the average for the group and print it out."
      ]
    },
    {
      "cell_type": "code",
      "execution_count": null,
      "metadata": {
        "colab": {
          "base_uri": "https://localhost:8080/"
        },
        "id": "5QX6bJjGWXY9",
        "outputId": "388f02bd-1361-4f82-923a-aa6eead5799d"
      },
      "outputs": [
        {
          "output_type": "stream",
          "name": "stdout",
          "text": [
            "32\n",
            "49\n",
            "69\n",
            "32\n",
            "15\n",
            "11\n",
            "30\n",
            "42\n",
            "99\n",
            "17\n",
            "88\n",
            "11\n",
            "\n",
            "12 random numbers in the list [32, 49, 69, 32, 15, 11, 30, 42, 99, 17, 88, 11]\n",
            "list of numbers in ascending order [11, 11, 15, 17, 30, 32, 32, 42, 49, 69, 88, 99]\n",
            "list of numbers in descending order [99, 88, 69, 49, 42, 32, 32, 30, 17, 15, 11, 11]\n",
            "Average num in the list: 41.25\n"
          ]
        }
      ],
      "source": [
        "# Your code here\n",
        "import random\n",
        "num =[]\n",
        "for n in range(12):\n",
        "  r = random.randrange(1,100)\n",
        "  print(r)\n",
        "  num.append(r)\n",
        "print(\"\\n12 random numbers in the list\",num)\n",
        "num.sort()\n",
        "print(\"list of numbers in ascending order\",num)\n",
        "num.sort(reverse=True)\n",
        "print(\"list of numbers in descending order\",num)\n",
        "print(\"Average num in the list:\",sum(num)/len(num))"
      ]
    },
    {
      "cell_type": "markdown",
      "metadata": {
        "id": "1F_PZdH9Sh49"
      },
      "source": [
        "# Question 2\n",
        "(25 points). Write a program that will do the following string formatting tasks:\n",
        "\n",
        "(1) Ask the user to enter two sentences.\n",
        "\n",
        "(2) Make each sentence into a list. Each element in the list should correspond to a word in the sentence. For example, if the sentence is \"Alas! Am I alive? This is my first python program\", the program should print out ['Alas, '!', 'Am', 'I', 'alive, '?', 'This', 'is', 'my', 'first', 'python', 'program'].\n",
        "\n",
        "(3) Compare the two sentences. Print out a list of words that occur in both sentences.\n",
        "\n",
        "(4) Remove any punctuation from the sentence and print it back out. It should remove at least the following characters, but it can remove more: period(“.”), comma (“,”), semicolon (“;”), and colon (“:”)\n",
        "\n",
        "(5) Count the number of vowels in the sentences. Print out each vowel and the number of times it appears in the sentences, such as: a:2, e:1, i:0, etc"
      ]
    },
    {
      "cell_type": "code",
      "execution_count": 64,
      "metadata": {
        "colab": {
          "base_uri": "https://localhost:8080/"
        },
        "id": "Y0oOSlsOS0cq",
        "outputId": "cda65715-ee30-45bd-9bfa-a04316cd22ec"
      },
      "outputs": [
        {
          "output_type": "stream",
          "name": "stdout",
          "text": [
            "Enter Sentence 1: Hi David, What are your plans for this weekend?\n",
            "Enter Sentence 2: Hi Sam, I'm planning to go for hiking for this weekend with my family. How about your weekend plans?\n",
            "['Hi', 'David', ',', 'What', 'are', 'your', 'plans', 'for', 'this', 'weekend', '?']\n",
            "['Hi', 'Sam', ',', 'I', \"'\", 'm', 'planning', 'to', 'go', 'for', 'hiking', 'for', 'this', 'weekend', 'with', 'my', 'family', '.', 'How', 'about', 'your', 'weekend', 'plans', '?']\n",
            "\n",
            "Words that occur in both the sentences :  ['weekend', 'plans', 'for', 'Hi', 'your', 'this']\n",
            "\n",
            "Sentence after punctuation is removed:\n",
            "Hi David What are your plans for this weekend\n",
            "Hi Sam I m planning to go for hiking for this weekend with my family How about your weekend plans\n",
            "\n",
            "Count of vowels in the sentence\n",
            "{'a': 4, 'e': 4, 'i': 3, 'o': 2, 'u': 1}\n",
            "{'a': 5, 'e': 6, 'i': 8, 'o': 7, 'u': 2}\n"
          ]
        }
      ],
      "source": [
        "# Your code here\n",
        "# 1.) Ask the user to enter two sentences.\n",
        "S1 = input(\"Enter Sentence 1: \")\n",
        "S2 = input(\"Enter Sentence 2: \")\n",
        "#Sentence 1: Hi David, What are your plans for this weekend?\n",
        "#Sentence 2: Hi Sam, I'm planning to go for hiking for this weekend with my family. How about your weekend plans?\n",
        "\n",
        "# 2.) Make each sentence into a list. Each element in the list should correspond to a word in the sentence.\n",
        "#For example, if the sentence is \"Alas! Am I alive? This is my first python program\", the program should print out ['Alas, '!', 'Am', 'I', 'alive, '?', 'This', 'is', 'my', 'first', 'python', 'program'].\n",
        "import re\n",
        "list_S1 = re.findall(r\"[A-Za-z]+|\\S\", S1)\n",
        "list_S2 = re.findall(r\"[A-Za-z]+|\\S\", S2)\n",
        "print(list_S1)\n",
        "print(list_S2)\n",
        "print()\n",
        "\n",
        "# 3.) Compare the two sentences. Print out a list of words that occur in both sentences.\n",
        "similar_words = list(set(list_S1)&set(list_S2))\n",
        "similar_words = [l for l in similar_words if l.isalpha()]\n",
        "print(\"Words that occur in both the sentences : \", similar_words)\n",
        "print()\n",
        "\n",
        "# 4.) Remove any punctuation from the sentence and print it back out. It should remove at least the following characters, but it can remove more: period(“.”), comma (“,”), semicolon (“;”), and colon (“:”)\n",
        "print(\"Sentence after punctuation is removed:\")\n",
        "print(\" \".join(l for l in re.findall(r\"[A-Za-z]+|\\s\", S1) if l != \" \"))\n",
        "print(\" \".join(l for l in re.findall(r\"[A-Za-z]+|\\s\", S2) if l != \" \"))\n",
        "print()\n",
        "\n",
        "# 5.) Count the number of vowels in the sentences. Print out each vowel and the number of times it appears in the sentences, such as: a:2, e:1, i:0, etc\n",
        "print(\"Count of vowels in the sentence\")\n",
        "for sentence in (S1, S2):\n",
        "  vowel_count = {}\n",
        "  for char in ['a', 'e', 'i', 'o', 'u']:\n",
        "    vowel_count[char] = sentence.lower().count(char)\n",
        "  print(vowel_count)\n",
        "\n"
      ]
    },
    {
      "cell_type": "markdown",
      "metadata": {
        "id": "CmFoI4jDS9nx"
      },
      "source": [
        "# Question 3 \n",
        "\n",
        "(15 points). The formula that describes the volume V of a sphere with radius r is the following:\n",
        "\n",
        "$ V=\\frac{4}{3}\\ast\\ \\pi\\ast\\ r^3 $\n",
        "\n",
        "Write a program to calculate the value of V when r is in the range of 1–10. Output the result in the following format:\n",
        "\n",
        "\tr\tV\n",
        "\t1\t…\n",
        "\t2\t…\n",
        "\t3\t…\n"
      ]
    },
    {
      "cell_type": "code",
      "execution_count": null,
      "metadata": {
        "colab": {
          "base_uri": "https://localhost:8080/"
        },
        "id": "pEyqeioAT95b",
        "outputId": "db91bdbe-6017-4d25-f806-72c4da348bc4"
      },
      "outputs": [
        {
          "output_type": "stream",
          "name": "stdout",
          "text": [
            "r    v\n",
            "1    4.1887902047863905\n",
            "2    33.510321638291124\n",
            "3    113.09733552923254\n",
            "4    268.082573106329\n",
            "5    523.5987755982989\n",
            "6    904.7786842338603\n",
            "7    1436.7550402417319\n",
            "8    2144.660584850632\n",
            "9    3053.6280592892786\n",
            "10    4188.790204786391\n"
          ]
        }
      ],
      "source": [
        "# Your code here\n",
        "import math\n",
        "print(\"r    v\")\n",
        "for r in range(1,11):\n",
        "  v = 4/3 * math.pi * r**3\n",
        "#math module is imported for the pie calculation\n",
        "  print( \"{}    {}\".format(r,    v))"
      ]
    },
    {
      "cell_type": "markdown",
      "metadata": {
        "id": "z3tBE7E-Xn5X"
      },
      "source": [
        "# Question 4\n",
        "\n",
        "(40 points). In the field of Data Science, data is often formatted as a comma-delimited (CSV) file, where each line in a file corresponds to a field's value. Refer to Chapter 9 (p. 106) for more information on comma-delimited files. To answer this question, you will need to download the file [Assignment1_denton_housing.csv](https://raw.githubusercontent.com/unt-iialab/info5731-spring2022/main/assignments/Assignment1_denton_housing.csv) included with this assignment. The file [Assignment1_denton_housing.csv](https://raw.githubusercontent.com/unt-iialab/info5731-spring2022/main/assignments/Assignment1_denton_housing.csv) contains statistics about housing in the city of Denton from 2008 to 2014. Write a program to implement the following questions.\n",
        "\n",
        "(1) (10 pts) Calculate the difference in the number of Occupied Housing Units from year to year and print it. The difference must be calculated for the consecutive years such as 2008-2009, 2009-2010 etc. Finally, print the values in the ascending order.\n",
        "\n",
        "(2) (10 pts) For all the years, calculate the percentage of housing units which are vacant an occupied. Print the results in the following format:\n",
        "\n",
        "Year Vacant Housing Units Occupied Housing Units\n",
        "\n",
        "    2008  30%   70%                          \n",
        "\t2009 ----- -----\n",
        "\t2010 ----- -----\n",
        "    2011 ----- -----\n",
        "\t2012 ----- -----\n",
        "    2013 ----- -----\n",
        "\t2014 ----- -----\n",
        "  \n",
        "  \n",
        "\n",
        "(3) (10 pts) Calculate and print the valued and years in which the highest number of housing units were vacant and occupied. Print the results in the following format:  \n",
        "\n",
        "                              Year\tValue\n",
        "\tVacant Housing Units\t  -----   -----\n",
        "\tOccupied Housing Units\t-----   -----\n",
        "\n",
        "(4) (10 pts) Calculate the harmonic mean of the total housing units and print it out. You can find the information about harmonic mean here: https://ncalculators.com/statistics/harmonic-mean-calculator.htm"
      ]
    },
    {
      "cell_type": "code",
      "execution_count": 57,
      "metadata": {
        "colab": {
          "base_uri": "https://localhost:8080/",
          "height": 73
        },
        "id": "lqGYuHBhcsRH",
        "outputId": "9f9e7633-9cf7-48bd-ff95-25211e1980f1"
      },
      "outputs": [
        {
          "output_type": "display_data",
          "data": {
            "text/plain": [
              "<IPython.core.display.HTML object>"
            ],
            "text/html": [
              "\n",
              "     <input type=\"file\" id=\"files-2b0bff56-67e5-4682-9e64-0e28567c8acd\" name=\"files[]\" multiple disabled\n",
              "        style=\"border:none\" />\n",
              "     <output id=\"result-2b0bff56-67e5-4682-9e64-0e28567c8acd\">\n",
              "      Upload widget is only available when the cell has been executed in the\n",
              "      current browser session. Please rerun this cell to enable.\n",
              "      </output>\n",
              "      <script>// Copyright 2017 Google LLC\n",
              "//\n",
              "// Licensed under the Apache License, Version 2.0 (the \"License\");\n",
              "// you may not use this file except in compliance with the License.\n",
              "// You may obtain a copy of the License at\n",
              "//\n",
              "//      http://www.apache.org/licenses/LICENSE-2.0\n",
              "//\n",
              "// Unless required by applicable law or agreed to in writing, software\n",
              "// distributed under the License is distributed on an \"AS IS\" BASIS,\n",
              "// WITHOUT WARRANTIES OR CONDITIONS OF ANY KIND, either express or implied.\n",
              "// See the License for the specific language governing permissions and\n",
              "// limitations under the License.\n",
              "\n",
              "/**\n",
              " * @fileoverview Helpers for google.colab Python module.\n",
              " */\n",
              "(function(scope) {\n",
              "function span(text, styleAttributes = {}) {\n",
              "  const element = document.createElement('span');\n",
              "  element.textContent = text;\n",
              "  for (const key of Object.keys(styleAttributes)) {\n",
              "    element.style[key] = styleAttributes[key];\n",
              "  }\n",
              "  return element;\n",
              "}\n",
              "\n",
              "// Max number of bytes which will be uploaded at a time.\n",
              "const MAX_PAYLOAD_SIZE = 100 * 1024;\n",
              "\n",
              "function _uploadFiles(inputId, outputId) {\n",
              "  const steps = uploadFilesStep(inputId, outputId);\n",
              "  const outputElement = document.getElementById(outputId);\n",
              "  // Cache steps on the outputElement to make it available for the next call\n",
              "  // to uploadFilesContinue from Python.\n",
              "  outputElement.steps = steps;\n",
              "\n",
              "  return _uploadFilesContinue(outputId);\n",
              "}\n",
              "\n",
              "// This is roughly an async generator (not supported in the browser yet),\n",
              "// where there are multiple asynchronous steps and the Python side is going\n",
              "// to poll for completion of each step.\n",
              "// This uses a Promise to block the python side on completion of each step,\n",
              "// then passes the result of the previous step as the input to the next step.\n",
              "function _uploadFilesContinue(outputId) {\n",
              "  const outputElement = document.getElementById(outputId);\n",
              "  const steps = outputElement.steps;\n",
              "\n",
              "  const next = steps.next(outputElement.lastPromiseValue);\n",
              "  return Promise.resolve(next.value.promise).then((value) => {\n",
              "    // Cache the last promise value to make it available to the next\n",
              "    // step of the generator.\n",
              "    outputElement.lastPromiseValue = value;\n",
              "    return next.value.response;\n",
              "  });\n",
              "}\n",
              "\n",
              "/**\n",
              " * Generator function which is called between each async step of the upload\n",
              " * process.\n",
              " * @param {string} inputId Element ID of the input file picker element.\n",
              " * @param {string} outputId Element ID of the output display.\n",
              " * @return {!Iterable<!Object>} Iterable of next steps.\n",
              " */\n",
              "function* uploadFilesStep(inputId, outputId) {\n",
              "  const inputElement = document.getElementById(inputId);\n",
              "  inputElement.disabled = false;\n",
              "\n",
              "  const outputElement = document.getElementById(outputId);\n",
              "  outputElement.innerHTML = '';\n",
              "\n",
              "  const pickedPromise = new Promise((resolve) => {\n",
              "    inputElement.addEventListener('change', (e) => {\n",
              "      resolve(e.target.files);\n",
              "    });\n",
              "  });\n",
              "\n",
              "  const cancel = document.createElement('button');\n",
              "  inputElement.parentElement.appendChild(cancel);\n",
              "  cancel.textContent = 'Cancel upload';\n",
              "  const cancelPromise = new Promise((resolve) => {\n",
              "    cancel.onclick = () => {\n",
              "      resolve(null);\n",
              "    };\n",
              "  });\n",
              "\n",
              "  // Wait for the user to pick the files.\n",
              "  const files = yield {\n",
              "    promise: Promise.race([pickedPromise, cancelPromise]),\n",
              "    response: {\n",
              "      action: 'starting',\n",
              "    }\n",
              "  };\n",
              "\n",
              "  cancel.remove();\n",
              "\n",
              "  // Disable the input element since further picks are not allowed.\n",
              "  inputElement.disabled = true;\n",
              "\n",
              "  if (!files) {\n",
              "    return {\n",
              "      response: {\n",
              "        action: 'complete',\n",
              "      }\n",
              "    };\n",
              "  }\n",
              "\n",
              "  for (const file of files) {\n",
              "    const li = document.createElement('li');\n",
              "    li.append(span(file.name, {fontWeight: 'bold'}));\n",
              "    li.append(span(\n",
              "        `(${file.type || 'n/a'}) - ${file.size} bytes, ` +\n",
              "        `last modified: ${\n",
              "            file.lastModifiedDate ? file.lastModifiedDate.toLocaleDateString() :\n",
              "                                    'n/a'} - `));\n",
              "    const percent = span('0% done');\n",
              "    li.appendChild(percent);\n",
              "\n",
              "    outputElement.appendChild(li);\n",
              "\n",
              "    const fileDataPromise = new Promise((resolve) => {\n",
              "      const reader = new FileReader();\n",
              "      reader.onload = (e) => {\n",
              "        resolve(e.target.result);\n",
              "      };\n",
              "      reader.readAsArrayBuffer(file);\n",
              "    });\n",
              "    // Wait for the data to be ready.\n",
              "    let fileData = yield {\n",
              "      promise: fileDataPromise,\n",
              "      response: {\n",
              "        action: 'continue',\n",
              "      }\n",
              "    };\n",
              "\n",
              "    // Use a chunked sending to avoid message size limits. See b/62115660.\n",
              "    let position = 0;\n",
              "    do {\n",
              "      const length = Math.min(fileData.byteLength - position, MAX_PAYLOAD_SIZE);\n",
              "      const chunk = new Uint8Array(fileData, position, length);\n",
              "      position += length;\n",
              "\n",
              "      const base64 = btoa(String.fromCharCode.apply(null, chunk));\n",
              "      yield {\n",
              "        response: {\n",
              "          action: 'append',\n",
              "          file: file.name,\n",
              "          data: base64,\n",
              "        },\n",
              "      };\n",
              "\n",
              "      let percentDone = fileData.byteLength === 0 ?\n",
              "          100 :\n",
              "          Math.round((position / fileData.byteLength) * 100);\n",
              "      percent.textContent = `${percentDone}% done`;\n",
              "\n",
              "    } while (position < fileData.byteLength);\n",
              "  }\n",
              "\n",
              "  // All done.\n",
              "  yield {\n",
              "    response: {\n",
              "      action: 'complete',\n",
              "    }\n",
              "  };\n",
              "}\n",
              "\n",
              "scope.google = scope.google || {};\n",
              "scope.google.colab = scope.google.colab || {};\n",
              "scope.google.colab._files = {\n",
              "  _uploadFiles,\n",
              "  _uploadFilesContinue,\n",
              "};\n",
              "})(self);\n",
              "</script> "
            ]
          },
          "metadata": {}
        },
        {
          "output_type": "stream",
          "name": "stdout",
          "text": [
            "Saving Assignment1_denton_housing.csv to Assignment1_denton_housing (1).csv\n"
          ]
        }
      ],
      "source": [
        "# Your code here\n",
        "from google.colab import files\n",
        "file = files.upload()\n"
      ]
    },
    {
      "cell_type": "code",
      "source": [
        "# 1.) Calculate the difference in the number of Occupied Housing Units from year to year and print.\n",
        "# The difference must be calculated for the consecutive years such as 2008-2009, 2009-2010 etc. Finally, print the values in the ascending order. \n",
        "\n",
        "import pandas as pd\n",
        "import io\n",
        "\n",
        "data_file = pd.read_csv(io.StringIO(file['Assignment1_denton_housing.csv'].decode('utf-8')))\n",
        "output = {}\n",
        "\n",
        "for year in range(2008, 2014):\n",
        "  output[\"{}-{}\".format(year, year+1)] = abs(data_file[(data_file['year'] == year) & (data_file['title_field'] == \"Occupied Housing Units\")].values[0][2] - data_file[(data_file['year'] == year + 1) & (data_file['title_field'] == \"Occupied Housing Units\")].values[0][2])\n",
        "print(\"Ascending order of Occupied Housing Units from year to year is: \\n \")\n",
        "output = {i: k for i, k in sorted(output.items(), key=lambda item: item[1])}\n",
        "\n",
        "for i in output.keys():\n",
        "  print(\"{}: {}\".format(i, output[i]))\n"
      ],
      "metadata": {
        "colab": {
          "base_uri": "https://localhost:8080/"
        },
        "id": "Ycacw790QCm2",
        "outputId": "22da2dc0-7115-434a-c076-dcfa76842017"
      },
      "execution_count": 58,
      "outputs": [
        {
          "output_type": "stream",
          "name": "stdout",
          "text": [
            "Ascending order of Occupied Housing Units from year to year is: \n",
            " \n",
            "2010-2011: 303\n",
            "2008-2009: 795\n",
            "2011-2012: 1404\n",
            "2012-2013: 1565\n",
            "2013-2014: 2622\n",
            "2009-2010: 5091\n"
          ]
        }
      ]
    },
    {
      "cell_type": "code",
      "source": [
        "# 2.) For all the years, calculate the percentage of housing units which are vacant an occupied. Print the results in the following format:\n",
        "# Year Vacant Housing Units Occupied Housing Units\n",
        "\n",
        "resultin_per = pd.DataFrame(columns = ['Year', 'Vacant Housing Units', 'Occupied Housing Units'])\n",
        "for year in range(2008, 2015):\n",
        "  results = {}\n",
        "  results['Year'] = year\n",
        "  results['Vacant Housing Units'] = data[(data['year'] == year)]['value'].values[1] / (data[(data['year'] == year)]['value'].values[0])\n",
        "  results['Occupied Housing Units'] = data[(data['year'] == year)]['value'].values[2] / (data[(data['year'] == year)]['value'].values[0])  \n",
        "  resultin_per = resultin_per.append(results, ignore_index=True)\n",
        "\n",
        "resultin_per['Year'] = resultin_per['Year'].astype('int64')\n",
        "print(resultin_per)"
      ],
      "metadata": {
        "colab": {
          "base_uri": "https://localhost:8080/"
        },
        "id": "HclZnvQ8SLdi",
        "outputId": "6a7e54ae-f25e-4843-b958-930eda6069da"
      },
      "execution_count": 59,
      "outputs": [
        {
          "output_type": "stream",
          "name": "stdout",
          "text": [
            "   Year  Vacant Housing Units  Occupied Housing Units\n",
            "0  2008              0.108827                0.891173\n",
            "1  2009              0.090711                0.909289\n",
            "2  2010              0.081426                0.918574\n",
            "3  2011              0.093795                0.906205\n",
            "4  2012              0.066776                0.933224\n",
            "5  2013              0.088018                0.911982\n",
            "6  2014              0.057301                0.942699\n"
          ]
        }
      ]
    },
    {
      "cell_type": "code",
      "source": [
        "# (3) Calculate and print the valued and years in which the highest number of housing units were vacant and occupied. \n",
        "\n",
        "housing_df = pd.DataFrame(columns=['Units','Year', 'Value'])\n",
        "for i in ['Vacant Housing Units', \"Occupied Housing Units\"]:\n",
        "  result = {}\n",
        "  result['Units'] = i\n",
        "  result['Value'] = data[data['title_field'] == i].max()[2]\n",
        "  result['Year'] = data[(data['title_field'] == i) & (data['value'] == result['Value'])]['year'].values[0]\n",
        "  housing_df = housing_df.append(result, ignore_index=True)\n",
        "\n",
        "housing_df.rename(columns = {'Units':\"\", 'Year': \"Year\", \"Value\": \"Value\"}, inplace = True)\n",
        "\n",
        "print(housing_df.to_string (index = False))\n"
      ],
      "metadata": {
        "colab": {
          "base_uri": "https://localhost:8080/"
        },
        "id": "cYj1Y-KaWNsn",
        "outputId": "ba563ac2-84f3-44c7-ea33-c2338a43c68d"
      },
      "execution_count": 60,
      "outputs": [
        {
          "output_type": "stream",
          "name": "stdout",
          "text": [
            "                       Year Value\n",
            "  Vacant Housing Units 2008  4483\n",
            "Occupied Housing Units 2014 46295\n"
          ]
        }
      ]
    },
    {
      "cell_type": "code",
      "source": [
        "# 4.) Calculate the harmonic mean of the total housing units and print it out. You can find the information about harmonic mean here: https://ncalculators.com/statistics/harmonic-mean-calculator.htm\n",
        "\n",
        "from statistics import harmonic_mean\n",
        "print(\"Total Housing units Harmonic mean is: \",harmonic_mean(data[data['title_field'] == 'Total Housing Units']['value']))\n"
      ],
      "metadata": {
        "colab": {
          "base_uri": "https://localhost:8080/"
        },
        "id": "VtntVqljYkq0",
        "outputId": "8eaa90d1-135e-457a-ecd1-c2a252327fe6"
      },
      "execution_count": 61,
      "outputs": [
        {
          "output_type": "stream",
          "name": "stdout",
          "text": [
            "Total Housing units Harmonic mean is:  44398.28543969185\n"
          ]
        }
      ]
    }
  ],
  "metadata": {
    "colab": {
      "collapsed_sections": [],
      "provenance": [],
      "include_colab_link": true
    },
    "kernelspec": {
      "display_name": "Python 3 (ipykernel)",
      "language": "python",
      "name": "python3"
    },
    "language_info": {
      "codemirror_mode": {
        "name": "ipython",
        "version": 3
      },
      "file_extension": ".py",
      "mimetype": "text/x-python",
      "name": "python",
      "nbconvert_exporter": "python",
      "pygments_lexer": "ipython3",
      "version": "3.9.12"
    }
  },
  "nbformat": 4,
  "nbformat_minor": 0
}