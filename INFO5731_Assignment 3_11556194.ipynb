{
  "cells": [
    {
      "cell_type": "markdown",
      "metadata": {
        "id": "view-in-github",
        "colab_type": "text"
      },
      "source": [
        "<a href=\"https://colab.research.google.com/github/Aranagut/INFO5731/blob/main/INFO5731_Assignment%203_11556194.ipynb\" target=\"_parent\"><img src=\"https://colab.research.google.com/assets/colab-badge.svg\" alt=\"Open In Colab\"/></a>"
      ]
    },
    {
      "cell_type": "markdown",
      "metadata": {
        "id": "USSdXHuqnwv9"
      },
      "source": [
        "# **INFO5731 Assignment Three**\n",
        "\n",
        "In this assignment, you are required to conduct information extraction, semantic analysis based on **the dataset you collected from assignment two**. You may use scipy and numpy package in this assignment."
      ]
    },
    {
      "cell_type": "markdown",
      "metadata": {
        "id": "YWxodXh5n4xF"
      },
      "source": [
        "# **Question 1: Understand N-gram**"
      ]
    },
    {
      "cell_type": "markdown",
      "metadata": {
        "id": "TenBkDJ5n95k"
      },
      "source": [
        "(45 points). Write a python program to conduct N-gram analysis based on the dataset in your assignment two:\n",
        "\n",
        "(1) Count the frequency of all the N-grams (N=3).\n",
        "\n",
        "(2) Calculate the probabilities for all the bigrams in the dataset by using the fomular count(w2 w1) / count(w2). For example, count(really like) / count(really) = 1 / 3 = 0.33.\n",
        "\n",
        "(3) Extract all the **noun phrases** and calculate the relative probabilities of each review in terms of other reviews (abstracts, or tweets) by using the fomular frequency (noun phrase) / max frequency (noun phrase) on the whole dataset. Print out the result in a table with column name the all the noun phrases and row name as all the 100 reviews (abstracts, or tweets). \n"
      ]
    },
    {
      "cell_type": "code",
      "execution_count": 34,
      "metadata": {
        "colab": {
          "base_uri": "https://localhost:8080/"
        },
        "id": "PuFPKhC0m1fd",
        "outputId": "a58b8720-0df6-4a42-a9c8-9cd20904b8a4"
      },
      "outputs": [
        {
          "output_type": "stream",
          "name": "stdout",
          "text": [
            "Looking in indexes: https://pypi.org/simple, https://us-python.pkg.dev/colab-wheels/public/simple/\n",
            "Requirement already satisfied: transformers in /usr/local/lib/python3.7/dist-packages (4.24.0)\n",
            "Requirement already satisfied: filelock in /usr/local/lib/python3.7/dist-packages (from transformers) (3.8.0)\n",
            "Requirement already satisfied: regex!=2019.12.17 in /usr/local/lib/python3.7/dist-packages (from transformers) (2022.6.2)\n",
            "Requirement already satisfied: pyyaml>=5.1 in /usr/local/lib/python3.7/dist-packages (from transformers) (6.0)\n",
            "Requirement already satisfied: packaging>=20.0 in /usr/local/lib/python3.7/dist-packages (from transformers) (21.3)\n",
            "Requirement already satisfied: huggingface-hub<1.0,>=0.10.0 in /usr/local/lib/python3.7/dist-packages (from transformers) (0.11.0)\n",
            "Requirement already satisfied: numpy>=1.17 in /usr/local/lib/python3.7/dist-packages (from transformers) (1.21.6)\n",
            "Requirement already satisfied: requests in /usr/local/lib/python3.7/dist-packages (from transformers) (2.23.0)\n",
            "Requirement already satisfied: tokenizers!=0.11.3,<0.14,>=0.11.1 in /usr/local/lib/python3.7/dist-packages (from transformers) (0.13.2)\n",
            "Requirement already satisfied: importlib-metadata in /usr/local/lib/python3.7/dist-packages (from transformers) (4.13.0)\n",
            "Requirement already satisfied: tqdm>=4.27 in /usr/local/lib/python3.7/dist-packages (from transformers) (4.64.1)\n",
            "Requirement already satisfied: typing-extensions>=3.7.4.3 in /usr/local/lib/python3.7/dist-packages (from huggingface-hub<1.0,>=0.10.0->transformers) (4.1.1)\n",
            "Requirement already satisfied: pyparsing!=3.0.5,>=2.0.2 in /usr/local/lib/python3.7/dist-packages (from packaging>=20.0->transformers) (3.0.9)\n",
            "Requirement already satisfied: zipp>=0.5 in /usr/local/lib/python3.7/dist-packages (from importlib-metadata->transformers) (3.10.0)\n",
            "Requirement already satisfied: certifi>=2017.4.17 in /usr/local/lib/python3.7/dist-packages (from requests->transformers) (2022.9.24)\n",
            "Requirement already satisfied: urllib3!=1.25.0,!=1.25.1,<1.26,>=1.21.1 in /usr/local/lib/python3.7/dist-packages (from requests->transformers) (1.24.3)\n",
            "Requirement already satisfied: idna<3,>=2.5 in /usr/local/lib/python3.7/dist-packages (from requests->transformers) (2.10)\n",
            "Requirement already satisfied: chardet<4,>=3.0.2 in /usr/local/lib/python3.7/dist-packages (from requests->transformers) (3.0.4)\n"
          ]
        },
        {
          "output_type": "stream",
          "name": "stderr",
          "text": [
            "[nltk_data] Downloading package punkt to /root/nltk_data...\n",
            "[nltk_data]   Package punkt is already up-to-date!\n",
            "[nltk_data] Downloading package wordnet to /root/nltk_data...\n",
            "[nltk_data]   Package wordnet is already up-to-date!\n"
          ]
        }
      ],
      "source": [
        "!pip install transformers\n",
        "import warnings\n",
        "import matplotlib.pyplot as plt\n",
        "import seaborn as sns\n",
        "import torch\n",
        "import transformers\n",
        "from gensim.models.phrases import Phrases, Phraser\n",
        "from gensim.models import Word2Vec\n",
        "from tensorflow.keras.callbacks import EarlyStopping, ModelCheckpoint\n",
        "from tensorflow.keras.layers import Dense\n",
        "from tensorflow.keras.models import Sequential\n",
        "import tensorflow as tf\n",
        "from nltk.classify import NaiveBayesClassifier\n",
        "from nltk.sentiment import SentimentAnalyzer\n",
        "import nltk\n",
        "from collections import Counter\n",
        "from sklearn.pipeline import Pipeline, make_pipeline\n",
        "from sklearn.metrics import accuracy_score, confusion_matrix\n",
        "from sklearn.feature_selection import chi2\n",
        "from sklearn.decomposition import PCA\n",
        "from sklearn.base import BaseEstimator, TransformerMixin\n",
        "from sklearn.model_selection import train_test_split\n",
        "from sklearn.ensemble import RandomForestClassifier, AdaBoostClassifier, AdaBoostRegressor\n",
        "from sklearn.feature_extraction.text import CountVectorizer, TfidfVectorizer\n",
        "import numpy as np\n",
        "import pandas as pd\n",
        "import time\n",
        "import pickle\n",
        "import os\n",
        "nltk.download('punkt')\n",
        "nltk.download('wordnet')\n",
        "warnings.simplefilter(action='ignore', category=FutureWarning)\n"
      ]
    },
    {
      "cell_type": "code",
      "source": [
        "from google.colab import drive\n",
        "drive.mount('/content/drive')"
      ],
      "metadata": {
        "colab": {
          "base_uri": "https://localhost:8080/"
        },
        "id": "Rqb2oyL1ROA5",
        "outputId": "b64869e5-c64f-4d12-aeb1-458a8484fa3f"
      },
      "execution_count": 35,
      "outputs": [
        {
          "output_type": "stream",
          "name": "stdout",
          "text": [
            "Drive already mounted at /content/drive; to attempt to forcibly remount, call drive.mount(\"/content/drive\", force_remount=True).\n"
          ]
        }
      ]
    },
    {
      "cell_type": "code",
      "source": [
        "df = pd.read_csv(\"/content/drive/MyDrive/INFO 5810/twitter.csv\", on_bad_lines='skip')\n",
        "df[\"'polarity'\"] = df[\"'polarity'\"].map({0: 0, 2: 1, 3: 2})\n",
        "df.dropna(inplace=True)\n",
        "pd.set_option('display.max_colwidth', None)\n",
        "df.head(2)"
      ],
      "metadata": {
        "colab": {
          "base_uri": "https://localhost:8080/",
          "height": 191
        },
        "id": "5TGax77Jlx8t",
        "outputId": "47072848-1c59-43cf-b3ed-b9c4ef5396d4"
      },
      "execution_count": 36,
      "outputs": [
        {
          "output_type": "execute_result",
          "data": {
            "text/plain": [
              "    'polarity'  'id'                        'date' 'query'   'user'  \\\n",
              "6          0.0     9  Mon May 11 03:22:30 UTC 2009     aig  Seth937   \n",
              "10         1.0    13  Mon May 11 03:32:42 UTC 2009   obama     jpeb   \n",
              "\n",
              "                                                                                                   'text'  \n",
              "6                                           Fuck this economy. I hate aig and their non loan given asses.  \n",
              "10  Check this video out -- President Obama at the White House Correspondents' Dinner http://bit.ly/IMXUM  "
            ],
            "text/html": [
              "\n",
              "  <div id=\"df-8dffdde3-89d5-45f8-8b0d-df10bd09b563\">\n",
              "    <div class=\"colab-df-container\">\n",
              "      <div>\n",
              "<style scoped>\n",
              "    .dataframe tbody tr th:only-of-type {\n",
              "        vertical-align: middle;\n",
              "    }\n",
              "\n",
              "    .dataframe tbody tr th {\n",
              "        vertical-align: top;\n",
              "    }\n",
              "\n",
              "    .dataframe thead th {\n",
              "        text-align: right;\n",
              "    }\n",
              "</style>\n",
              "<table border=\"1\" class=\"dataframe\">\n",
              "  <thead>\n",
              "    <tr style=\"text-align: right;\">\n",
              "      <th></th>\n",
              "      <th>'polarity'</th>\n",
              "      <th>'id'</th>\n",
              "      <th>'date'</th>\n",
              "      <th>'query'</th>\n",
              "      <th>'user'</th>\n",
              "      <th>'text'</th>\n",
              "    </tr>\n",
              "  </thead>\n",
              "  <tbody>\n",
              "    <tr>\n",
              "      <th>6</th>\n",
              "      <td>0.0</td>\n",
              "      <td>9</td>\n",
              "      <td>Mon May 11 03:22:30 UTC 2009</td>\n",
              "      <td>aig</td>\n",
              "      <td>Seth937</td>\n",
              "      <td>Fuck this economy. I hate aig and their non loan given asses.</td>\n",
              "    </tr>\n",
              "    <tr>\n",
              "      <th>10</th>\n",
              "      <td>1.0</td>\n",
              "      <td>13</td>\n",
              "      <td>Mon May 11 03:32:42 UTC 2009</td>\n",
              "      <td>obama</td>\n",
              "      <td>jpeb</td>\n",
              "      <td>Check this video out -- President Obama at the White House Correspondents' Dinner http://bit.ly/IMXUM</td>\n",
              "    </tr>\n",
              "  </tbody>\n",
              "</table>\n",
              "</div>\n",
              "      <button class=\"colab-df-convert\" onclick=\"convertToInteractive('df-8dffdde3-89d5-45f8-8b0d-df10bd09b563')\"\n",
              "              title=\"Convert this dataframe to an interactive table.\"\n",
              "              style=\"display:none;\">\n",
              "        \n",
              "  <svg xmlns=\"http://www.w3.org/2000/svg\" height=\"24px\"viewBox=\"0 0 24 24\"\n",
              "       width=\"24px\">\n",
              "    <path d=\"M0 0h24v24H0V0z\" fill=\"none\"/>\n",
              "    <path d=\"M18.56 5.44l.94 2.06.94-2.06 2.06-.94-2.06-.94-.94-2.06-.94 2.06-2.06.94zm-11 1L8.5 8.5l.94-2.06 2.06-.94-2.06-.94L8.5 2.5l-.94 2.06-2.06.94zm10 10l.94 2.06.94-2.06 2.06-.94-2.06-.94-.94-2.06-.94 2.06-2.06.94z\"/><path d=\"M17.41 7.96l-1.37-1.37c-.4-.4-.92-.59-1.43-.59-.52 0-1.04.2-1.43.59L10.3 9.45l-7.72 7.72c-.78.78-.78 2.05 0 2.83L4 21.41c.39.39.9.59 1.41.59.51 0 1.02-.2 1.41-.59l7.78-7.78 2.81-2.81c.8-.78.8-2.07 0-2.86zM5.41 20L4 18.59l7.72-7.72 1.47 1.35L5.41 20z\"/>\n",
              "  </svg>\n",
              "      </button>\n",
              "      \n",
              "  <style>\n",
              "    .colab-df-container {\n",
              "      display:flex;\n",
              "      flex-wrap:wrap;\n",
              "      gap: 12px;\n",
              "    }\n",
              "\n",
              "    .colab-df-convert {\n",
              "      background-color: #E8F0FE;\n",
              "      border: none;\n",
              "      border-radius: 50%;\n",
              "      cursor: pointer;\n",
              "      display: none;\n",
              "      fill: #1967D2;\n",
              "      height: 32px;\n",
              "      padding: 0 0 0 0;\n",
              "      width: 32px;\n",
              "    }\n",
              "\n",
              "    .colab-df-convert:hover {\n",
              "      background-color: #E2EBFA;\n",
              "      box-shadow: 0px 1px 2px rgba(60, 64, 67, 0.3), 0px 1px 3px 1px rgba(60, 64, 67, 0.15);\n",
              "      fill: #174EA6;\n",
              "    }\n",
              "\n",
              "    [theme=dark] .colab-df-convert {\n",
              "      background-color: #3B4455;\n",
              "      fill: #D2E3FC;\n",
              "    }\n",
              "\n",
              "    [theme=dark] .colab-df-convert:hover {\n",
              "      background-color: #434B5C;\n",
              "      box-shadow: 0px 1px 3px 1px rgba(0, 0, 0, 0.15);\n",
              "      filter: drop-shadow(0px 1px 2px rgba(0, 0, 0, 0.3));\n",
              "      fill: #FFFFFF;\n",
              "    }\n",
              "  </style>\n",
              "\n",
              "      <script>\n",
              "        const buttonEl =\n",
              "          document.querySelector('#df-8dffdde3-89d5-45f8-8b0d-df10bd09b563 button.colab-df-convert');\n",
              "        buttonEl.style.display =\n",
              "          google.colab.kernel.accessAllowed ? 'block' : 'none';\n",
              "\n",
              "        async function convertToInteractive(key) {\n",
              "          const element = document.querySelector('#df-8dffdde3-89d5-45f8-8b0d-df10bd09b563');\n",
              "          const dataTable =\n",
              "            await google.colab.kernel.invokeFunction('convertToInteractive',\n",
              "                                                     [key], {});\n",
              "          if (!dataTable) return;\n",
              "\n",
              "          const docLinkHtml = 'Like what you see? Visit the ' +\n",
              "            '<a target=\"_blank\" href=https://colab.research.google.com/notebooks/data_table.ipynb>data table notebook</a>'\n",
              "            + ' to learn more about interactive tables.';\n",
              "          element.innerHTML = '';\n",
              "          dataTable['output_type'] = 'display_data';\n",
              "          await google.colab.output.renderOutput(dataTable, element);\n",
              "          const docLink = document.createElement('div');\n",
              "          docLink.innerHTML = docLinkHtml;\n",
              "          element.appendChild(docLink);\n",
              "        }\n",
              "      </script>\n",
              "    </div>\n",
              "  </div>\n",
              "  "
            ]
          },
          "metadata": {},
          "execution_count": 36
        }
      ]
    },
    {
      "cell_type": "code",
      "source": [
        "train, test = train_test_split(df[[\"'text'\", \"'polarity'\"]], random_state=0)\n",
        "X_train = train[\"'text'\"]\n",
        "X_test = test[\"'text'\"]\n",
        "y_train = train[\"'polarity'\"]\n",
        "y_test = test[\"'polarity'\"]"
      ],
      "metadata": {
        "id": "YfrpCcjWl2uU"
      },
      "execution_count": 38,
      "outputs": []
    },
    {
      "cell_type": "code",
      "source": [
        "def get_accuracy():\n",
        "    pipe.fit(X_train, y_train)\n",
        "    y_pred = pipe.predict(X_test)\n",
        "    return round(accuracy_score(y_pred, y_test), 3)"
      ],
      "metadata": {
        "id": "XOAfJd7rl-Bg"
      },
      "execution_count": 39,
      "outputs": []
    },
    {
      "cell_type": "markdown",
      "metadata": {
        "id": "AfpMRCrRwN6Z"
      },
      "source": [
        "# **Question 2: Undersand TF-IDF and Document representation**"
      ]
    },
    {
      "cell_type": "markdown",
      "metadata": {
        "id": "1dCQEbDawWCw"
      },
      "source": [
        "(20 points). Starting from the documents (all the reviews, or abstracts, or tweets) collected for assignment two, write a python program: \n",
        "\n",
        "(1) To build the **documents-terms weights (tf*idf) matrix bold text**.\n",
        "\n",
        "(2) To rank the documents with respect to query (design a query by yourself, for example, \"An Outstanding movie with a haunting performance and best character development\") by using **cosine similarity**."
      ]
    },
    {
      "cell_type": "code",
      "execution_count": 40,
      "metadata": {
        "id": "vATjQNTY8buA"
      },
      "outputs": [],
      "source": [
        "count_vectorizer = CountVectorizer(max_features=1000)\n",
        "random_forest = RandomForestClassifier(max_depth=10, n_estimators=10)"
      ]
    },
    {
      "cell_type": "code",
      "source": [
        "pipe = make_pipeline(count_vectorizer, random_forest)"
      ],
      "metadata": {
        "id": "abvXXFY2mEOQ"
      },
      "execution_count": 41,
      "outputs": []
    },
    {
      "cell_type": "code",
      "source": [
        "get_accuracy()"
      ],
      "metadata": {
        "colab": {
          "base_uri": "https://localhost:8080/"
        },
        "id": "ZzKprGZ1mGsq",
        "outputId": "0bb61c57-0e6b-45ae-e1e2-6261c603403c"
      },
      "execution_count": 42,
      "outputs": [
        {
          "output_type": "execute_result",
          "data": {
            "text/plain": [
              "0.823"
            ]
          },
          "metadata": {},
          "execution_count": 42
        }
      ]
    },
    {
      "cell_type": "code",
      "source": [
        "y_pred = pipe.predict(X_test)"
      ],
      "metadata": {
        "id": "cIfIfVsVmJSR"
      },
      "execution_count": 43,
      "outputs": []
    },
    {
      "cell_type": "code",
      "source": [
        "round(pd.Series(y_train).value_counts(normalize=True), 2)"
      ],
      "metadata": {
        "colab": {
          "base_uri": "https://localhost:8080/"
        },
        "id": "y7wPzjq2mMdE",
        "outputId": "ef905a6e-65fa-403b-d849-32a6ba8dce4a"
      },
      "execution_count": 44,
      "outputs": [
        {
          "output_type": "execute_result",
          "data": {
            "text/plain": [
              "0.0    0.55\n",
              "1.0    0.45\n",
              "Name: 'polarity', dtype: float64"
            ]
          },
          "metadata": {},
          "execution_count": 44
        }
      ]
    },
    {
      "cell_type": "code",
      "source": [
        "round(pd.Series(y_pred).value_counts(normalize=True), 2)"
      ],
      "metadata": {
        "colab": {
          "base_uri": "https://localhost:8080/"
        },
        "id": "SSK5xNEcmO0T",
        "outputId": "d848189c-9745-4dd6-d0d4-c903b7c3f989"
      },
      "execution_count": 45,
      "outputs": [
        {
          "output_type": "execute_result",
          "data": {
            "text/plain": [
              "0.0    0.65\n",
              "1.0    0.35\n",
              "dtype: float64"
            ]
          },
          "metadata": {},
          "execution_count": 45
        }
      ]
    },
    {
      "cell_type": "code",
      "source": [
        "random_forest.set_params(class_weight='balanced')\n",
        "print(get_accuracy())\n",
        "random_forest.set_params(class_weight='balanced_subsample')\n",
        "print(get_accuracy())"
      ],
      "metadata": {
        "colab": {
          "base_uri": "https://localhost:8080/"
        },
        "id": "PW_J9U5HmRqC",
        "outputId": "daf33b31-acec-49a5-c2c4-b4830abc9c9a"
      },
      "execution_count": 46,
      "outputs": [
        {
          "output_type": "stream",
          "name": "stdout",
          "text": [
            "0.722\n",
            "0.734\n"
          ]
        }
      ]
    },
    {
      "cell_type": "code",
      "source": [
        "labels = [0, 1, 2]\n",
        "y_pred = pipe.predict(X_test)\n",
        "cm = confusion_matrix(y_test, y_pred, labels=labels)\n",
        "fig = plt.figure(figsize=(14, 7))\n",
        "ax = fig.add_subplot(111)\n",
        "cax = ax.matshow(cm)\n",
        "plt.title('Confusion matrix')\n",
        "fig.colorbar(cax)\n",
        "ax.set_xticklabels([''] + labels)\n",
        "ax.set_yticklabels([''] + labels)\n",
        "plt.xlabel('Predicted')\n",
        "plt.ylabel('True')\n",
        "plt.show()"
      ],
      "metadata": {
        "colab": {
          "base_uri": "https://localhost:8080/",
          "height": 460
        },
        "id": "vHLi6cl7mT_S",
        "outputId": "b78b50f1-b78d-414f-ab7b-de2ac91b05a4"
      },
      "execution_count": 47,
      "outputs": [
        {
          "output_type": "display_data",
          "data": {
            "text/plain": [
              "<Figure size 1008x504 with 2 Axes>"
            ],
            "image/png": "[encoded data removed]"
          },
          "metadata": {
            "needs_background": "light"
          }
        }
      ]
    },
    {
      "cell_type": "code",
      "source": [
        "from nltk import word_tokenize\n",
        "from nltk.stem import WordNetLemmatizer\n",
        "\n",
        "\n",
        "class LemmaTokenizer:\n",
        "    def __init__(self):\n",
        "        self.wnl = WordNetLemmatizer()\n",
        "\n",
        "    def __call__(self, doc):\n",
        "        return [self.wnl.lemmatize(t) for t in word_tokenize(doc)]"
      ],
      "metadata": {
        "id": "72HZrZO8mWsF"
      },
      "execution_count": 48,
      "outputs": []
    },
    {
      "cell_type": "code",
      "source": [
        "import nltk\n",
        "nltk.download('omw-1.4')\n",
        "pipe[0].set_params(tokenizer=LemmaTokenizer())\n",
        "get_accuracy()"
      ],
      "metadata": {
        "colab": {
          "base_uri": "https://localhost:8080/"
        },
        "id": "Ql_Cex2SmaA4",
        "outputId": "58617f59-aab3-4a01-ec7b-55e09ce9fb74"
      },
      "execution_count": 49,
      "outputs": [
        {
          "output_type": "stream",
          "name": "stderr",
          "text": [
            "[nltk_data] Downloading package omw-1.4 to /root/nltk_data...\n",
            "[nltk_data]   Package omw-1.4 is already up-to-date!\n"
          ]
        },
        {
          "output_type": "execute_result",
          "data": {
            "text/plain": [
              "0.734"
            ]
          },
          "metadata": {},
          "execution_count": 49
        }
      ]
    },
    {
      "cell_type": "code",
      "source": [
        "tfidf_vectorizer = TfidfVectorizer()\n",
        "pipe.steps[0] = ('vectorizer', tfidf_vectorizer)\n",
        "get_accuracy()"
      ],
      "metadata": {
        "colab": {
          "base_uri": "https://localhost:8080/"
        },
        "id": "_vIbhrJ5miRX",
        "outputId": "9cfa2a94-bc07-4e3e-a11e-e4f0fd4c78db"
      },
      "execution_count": 50,
      "outputs": [
        {
          "output_type": "execute_result",
          "data": {
            "text/plain": [
              "0.684"
            ]
          },
          "metadata": {},
          "execution_count": 50
        }
      ]
    },
    {
      "cell_type": "code",
      "source": [
        "ada_boost = AdaBoostClassifier()\n",
        "pipe.steps[1] = ('adaboost', ada_boost)\n",
        "get_accuracy()"
      ],
      "metadata": {
        "colab": {
          "base_uri": "https://localhost:8080/"
        },
        "id": "vW35gqazmcNz",
        "outputId": "13f53c63-01c0-442b-b97a-d20e4542e275"
      },
      "execution_count": 51,
      "outputs": [
        {
          "output_type": "execute_result",
          "data": {
            "text/plain": [
              "0.734"
            ]
          },
          "metadata": {},
          "execution_count": 51
        }
      ]
    },
    {
      "cell_type": "code",
      "source": [
        "count_vectorizer.get_feature_names"
      ],
      "metadata": {
        "colab": {
          "base_uri": "https://localhost:8080/"
        },
        "id": "FT1YoLi4moEu",
        "outputId": "c6da58ba-858d-49a0-a758-ca06c207801a"
      },
      "execution_count": 52,
      "outputs": [
        {
          "output_type": "execute_result",
          "data": {
            "text/plain": [
              "<bound method CountVectorizer.get_feature_names of CountVectorizer(max_features=1000,\n",
              "                tokenizer=<__main__.LemmaTokenizer object at 0x7fa6edf472d0>)>"
            ]
          },
          "metadata": {},
          "execution_count": 52
        }
      ]
    },
    {
      "cell_type": "code",
      "source": [
        "count_vectorizer = CountVectorizer()\n",
        "\n",
        "bow = count_vectorizer.fit_transform(X_train)\n",
        "\n",
        "words = count_vectorizer.get_feature_names()\n",
        "\n",
        "p_value_limit = 0.95\n",
        "\n",
        "dtf_features = pd.DataFrame()\n",
        "\n",
        "for cat in range(3):\n",
        "    _, p = chi2(bow, y_train == cat)\n",
        "    dtf_features = dtf_features.append(pd.DataFrame(\n",
        "        {\"feature\": words, \"score\": 1-p, \"y\": cat}))\n",
        "    dtf_features = dtf_features.sort_values([\"y\", \"score\"],\n",
        "                                            ascending=[True, False])\n",
        "    dtf_features = dtf_features[dtf_features[\"score\"] > p_value_limit]\n",
        "\n",
        "X_names = dtf_features[\"feature\"].unique().tolist()\n",
        "\n",
        "pipe['vectorizer'].set_params(vocabulary=X_names)\n",
        "\n",
        "get_accuracy()"
      ],
      "metadata": {
        "colab": {
          "base_uri": "https://localhost:8080/"
        },
        "id": "sQGj-xyLmq7K",
        "outputId": "c57d9689-67d4-4490-d5a2-d7abae2ce57d"
      },
      "execution_count": 53,
      "outputs": [
        {
          "output_type": "execute_result",
          "data": {
            "text/plain": [
              "0.747"
            ]
          },
          "metadata": {},
          "execution_count": 53
        }
      ]
    },
    {
      "cell_type": "code",
      "source": [
        "mc = ModelCheckpoint('best_model.h5', monitor='val_accuracy',\n",
        "                     mode='max', verbose=1, save_best_only=True)"
      ],
      "metadata": {
        "id": "Z9ZCoyI2mtcw"
      },
      "execution_count": 54,
      "outputs": []
    },
    {
      "cell_type": "code",
      "source": [
        "def fit_sequential(X_train, X_test, sequential=None, epochs=20, patience=5):\n",
        "\n",
        "    if sequential is None:\n",
        "        input_size = X_train.shape[1]\n",
        "\n",
        "        sequential = tf.keras.models.Sequential([\n",
        "            tf.keras.layers.Flatten(input_shape=(input_size, )),\n",
        "            tf.keras.layers.Dense(128),\n",
        "            tf.keras.layers.Dropout(0.2),\n",
        "            tf.keras.layers.Dense(3, activation='sigmoid')\n",
        "        ])\n",
        "        loss_fn = tf.keras.losses.SparseCategoricalCrossentropy(\n",
        "            from_logits=True)\n",
        "        sequential.compile(optimizer='adam', loss=loss_fn,\n",
        "                           metrics=['accuracy'])\n",
        "        global mc\n",
        "        mc = ModelCheckpoint('best_model.h5', monitor='val_accuracy',\n",
        "                             mode='max', verbose=1, save_best_only=True)\n",
        "\n",
        "    es = EarlyStopping(monitor='val_accuracy', mode='max',\n",
        "                       verbose=1, patience=patience)\n",
        "    sequential.fit(X_train, np.array(y_train), epochs=epochs, verbose=1,\n",
        "                   validation_data=(X_test, np.array(y_test)), callbacks=[es, mc])\n",
        "    sequential.load_weights('best_model.h5')\n",
        "    return sequential"
      ],
      "metadata": {
        "id": "7NMz22UomzlM"
      },
      "execution_count": 55,
      "outputs": []
    },
    {
      "cell_type": "code",
      "source": [
        "vectorizer = TfidfVectorizer()\n",
        "def convert_sparse_matrix_to_sparse_tensor(X):\n",
        "    coo = X.tocoo()\n",
        "    indices = np.mat([coo.row, coo.col]).transpose()\n",
        "    return tf.sparse.reorder(tf.SparseTensor(indices, coo.data, coo.shape))\n",
        "X_train_vectorized = vectorizer.fit_transform(X_train).toarray()\n",
        "X_test_vectorized = vectorizer.transform(X_test).toarray()\n",
        "sequential = fit_sequential(X_train_vectorized, X_test_vectorized)"
      ],
      "metadata": {
        "colab": {
          "base_uri": "https://localhost:8080/"
        },
        "id": "4wJqCMfQm1Ht",
        "outputId": "e1d65598-bc56-4654-bac1-eb87249162e3"
      },
      "execution_count": 56,
      "outputs": [
        {
          "output_type": "stream",
          "name": "stdout",
          "text": [
            "Epoch 1/20\n"
          ]
        },
        {
          "output_type": "stream",
          "name": "stderr",
          "text": [
            "/usr/local/lib/python3.7/dist-packages/tensorflow/python/util/dispatch.py:1082: UserWarning: \"`sparse_categorical_crossentropy` received `from_logits=True`, but the `output` argument was produced by a sigmoid or softmax activation and thus does not represent logits. Was this intended?\"\n",
            "  return dispatch_target(*args, **kwargs)\n"
          ]
        },
        {
          "output_type": "stream",
          "name": "stdout",
          "text": [
            "\r1/8 [==>...........................] - ETA: 3s - loss: 1.1085 - accuracy: 0.3125\n",
            "Epoch 1: val_accuracy improved from -inf to 0.73418, saving model to best_model.h5\n",
            "8/8 [==============================] - 1s 33ms/step - loss: 1.0637 - accuracy: 0.5359 - val_loss: 0.9860 - val_accuracy: 0.7342\n",
            "Epoch 2/20\n",
            "1/8 [==>...........................] - ETA: 0s - loss: 0.9685 - accuracy: 0.9062\n",
            "Epoch 2: val_accuracy improved from 0.73418 to 0.74684, saving model to best_model.h5\n",
            "8/8 [==============================] - 0s 12ms/step - loss: 0.9166 - accuracy: 0.8565 - val_loss: 0.8785 - val_accuracy: 0.7468\n",
            "Epoch 3/20\n",
            "1/8 [==>...........................] - ETA: 0s - loss: 0.7823 - accuracy: 0.9375\n",
            "Epoch 3: val_accuracy improved from 0.74684 to 0.77215, saving model to best_model.h5\n",
            "8/8 [==============================] - 0s 14ms/step - loss: 0.7856 - accuracy: 0.9156 - val_loss: 0.7843 - val_accuracy: 0.7722\n",
            "Epoch 4/20\n",
            "1/8 [==>...........................] - ETA: 0s - loss: 0.7292 - accuracy: 0.9062\n",
            "Epoch 4: val_accuracy did not improve from 0.77215\n",
            "8/8 [==============================] - 0s 9ms/step - loss: 0.6619 - accuracy: 0.9451 - val_loss: 0.7050 - val_accuracy: 0.7722\n",
            "Epoch 5/20\n",
            "1/8 [==>...........................] - ETA: 0s - loss: 0.5642 - accuracy: 1.0000\n",
            "Epoch 5: val_accuracy did not improve from 0.77215\n",
            "8/8 [==============================] - 0s 10ms/step - loss: 0.5488 - accuracy: 0.9747 - val_loss: 0.6375 - val_accuracy: 0.7722\n",
            "Epoch 6/20\n",
            "1/8 [==>...........................] - ETA: 0s - loss: 0.4968 - accuracy: 0.9062\n",
            "Epoch 6: val_accuracy improved from 0.77215 to 0.78481, saving model to best_model.h5\n",
            "8/8 [==============================] - 0s 15ms/step - loss: 0.4558 - accuracy: 0.9873 - val_loss: 0.5833 - val_accuracy: 0.7848\n",
            "Epoch 7/20\n",
            "1/8 [==>...........................] - ETA: 0s - loss: 0.4116 - accuracy: 1.0000\n",
            "Epoch 7: val_accuracy improved from 0.78481 to 0.79747, saving model to best_model.h5\n",
            "8/8 [==============================] - 0s 15ms/step - loss: 0.3747 - accuracy: 0.9958 - val_loss: 0.5416 - val_accuracy: 0.7975\n",
            "Epoch 8/20\n",
            "1/8 [==>...........................] - ETA: 0s - loss: 0.3189 - accuracy: 1.0000\n",
            "Epoch 8: val_accuracy did not improve from 0.79747\n",
            "8/8 [==============================] - 0s 11ms/step - loss: 0.3004 - accuracy: 1.0000 - val_loss: 0.5084 - val_accuracy: 0.7975\n",
            "Epoch 9/20\n",
            "1/8 [==>...........................] - ETA: 0s - loss: 0.2565 - accuracy: 1.0000\n",
            "Epoch 9: val_accuracy did not improve from 0.79747\n",
            "8/8 [==============================] - 0s 10ms/step - loss: 0.2456 - accuracy: 1.0000 - val_loss: 0.4836 - val_accuracy: 0.7975\n",
            "Epoch 10/20\n",
            "1/8 [==>...........................] - ETA: 0s - loss: 0.2084 - accuracy: 1.0000\n",
            "Epoch 10: val_accuracy improved from 0.79747 to 0.81013, saving model to best_model.h5\n",
            "8/8 [==============================] - 0s 12ms/step - loss: 0.1968 - accuracy: 1.0000 - val_loss: 0.4643 - val_accuracy: 0.8101\n",
            "Epoch 11/20\n",
            "1/8 [==>...........................] - ETA: 0s - loss: 0.1643 - accuracy: 1.0000\n",
            "Epoch 11: val_accuracy did not improve from 0.81013\n",
            "8/8 [==============================] - 0s 11ms/step - loss: 0.1603 - accuracy: 1.0000 - val_loss: 0.4503 - val_accuracy: 0.7975\n",
            "Epoch 12/20\n",
            "1/8 [==>...........................] - ETA: 0s - loss: 0.1396 - accuracy: 1.0000\n",
            "Epoch 12: val_accuracy did not improve from 0.81013\n",
            "8/8 [==============================] - 0s 9ms/step - loss: 0.1321 - accuracy: 1.0000 - val_loss: 0.4406 - val_accuracy: 0.7975\n",
            "Epoch 13/20\n",
            "1/8 [==>...........................] - ETA: 0s - loss: 0.1238 - accuracy: 1.0000\n",
            "Epoch 13: val_accuracy did not improve from 0.81013\n",
            "8/8 [==============================] - 0s 10ms/step - loss: 0.1094 - accuracy: 1.0000 - val_loss: 0.4350 - val_accuracy: 0.7975\n",
            "Epoch 14/20\n",
            "1/8 [==>...........................] - ETA: 0s - loss: 0.1077 - accuracy: 1.0000\n",
            "Epoch 14: val_accuracy did not improve from 0.81013\n",
            "8/8 [==============================] - 0s 12ms/step - loss: 0.0945 - accuracy: 1.0000 - val_loss: 0.4314 - val_accuracy: 0.7975\n",
            "Epoch 15/20\n",
            "1/8 [==>...........................] - ETA: 0s - loss: 0.0836 - accuracy: 1.0000\n",
            "Epoch 15: val_accuracy did not improve from 0.81013\n",
            "8/8 [==============================] - 0s 11ms/step - loss: 0.0790 - accuracy: 1.0000 - val_loss: 0.4288 - val_accuracy: 0.7975\n",
            "Epoch 15: early stopping\n"
          ]
        }
      ]
    },
    {
      "cell_type": "markdown",
      "metadata": {
        "id": "1HiLrp9SjsTX"
      },
      "source": [
        "# **Question 3: Create your own word embedding model**"
      ]
    },
    {
      "cell_type": "markdown",
      "metadata": {
        "id": "BaPXDn0HjsTX"
      },
      "source": [
        "(20 points). Use the data you collected for assignment two to build a word embedding model: \n",
        "\n",
        "(1) Train a 300-dimension word embedding (it can be word2vec, glove, ulmfit, bert, or others).\n",
        "\n",
        "(2) Visualize the word embedding model you created.\n",
        "\n",
        "Reference: https://machinelearningmastery.com/develop-word-embeddings-python-gensim/\n",
        "\n",
        "Reference: https://jaketae.github.io/study/word2vec/"
      ]
    },
    {
      "cell_type": "code",
      "execution_count": 57,
      "metadata": {
        "id": "Z7cvYavUjsTX"
      },
      "outputs": [],
      "source": [
        "class W2VTransformer(BaseEstimator, TransformerMixin):\n",
        "    def __init__(self, size):\n",
        "        self.size = size\n",
        "        pass\n",
        "\n",
        "    def fit(self, X, y=None):\n",
        "        self.model = Word2Vec(min_count=1,\n",
        "                              window=2,\n",
        "                              size=self.size,\n",
        "                              sample=6e-5,\n",
        "                              alpha=0.03,\n",
        "                              min_alpha=0.0007,\n",
        "                              negative=20)\n",
        "        sentences = [row.split() for row in X]\n",
        "\n",
        "        self.model.build_vocab(sentences)\n",
        "        self.model.train(\n",
        "            sentences, total_examples=self.model.corpus_count, epochs=self.model.epochs)\n",
        "        return self\n",
        "\n",
        "    def get_vector(self, sentence):\n",
        "        relevant_words_vectors = [self.model.wv[x]\n",
        "                                  for x in sentence.split() if x in self.model.wv.vocab]\n",
        "        if not relevant_words_vectors:\n",
        "            return np.zeros(self.model.vector_size)  # .astype('float32')\n",
        "        return np.mean(relevant_words_vectors, axis=0)\n",
        "\n",
        "    def transform(self, X):\n",
        "        arr = np.array([])\n",
        "        for elem in X:\n",
        "            arr = np.concatenate([arr, self.get_vector(elem)])\n",
        "        return arr.reshape(-1, self.size)"
      ]
    },
    {
      "cell_type": "code",
      "source": [
        "vectorizer = W2VTransformer(4)\n",
        "X_train_vectorized = vectorizer.fit_transform(X_train)\n",
        "X_test_vectorized = vectorizer.transform(X_test)"
      ],
      "metadata": {
        "colab": {
          "base_uri": "https://localhost:8080/"
        },
        "id": "b6CIKgFDnF5r",
        "outputId": "bff38c49-cfdf-420e-c5d7-e1e4d112188e"
      },
      "execution_count": 58,
      "outputs": [
        {
          "output_type": "stream",
          "name": "stderr",
          "text": [
            "WARNING:gensim.models.base_any2vec:under 10 jobs per worker: consider setting a smaller `batch_words' for smoother alpha decay\n"
          ]
        }
      ]
    },
    {
      "cell_type": "code",
      "source": [
        "sequential = fit_sequential(X_train_vectorized, X_test_vectorized)"
      ],
      "metadata": {
        "colab": {
          "base_uri": "https://localhost:8080/"
        },
        "id": "JzQLBR78kA3n",
        "outputId": "2506d6f8-c9e2-4094-d706-2c5455e3caea"
      },
      "execution_count": 59,
      "outputs": [
        {
          "output_type": "stream",
          "name": "stdout",
          "text": [
            "Epoch 1/20\n",
            "1/8 [==>...........................] - ETA: 2s - loss: 1.0952 - accuracy: 0.5312\n",
            "Epoch 1: val_accuracy improved from -inf to 0.59494, saving model to best_model.h5\n",
            "8/8 [==============================] - 1s 34ms/step - loss: 1.0762 - accuracy: 0.5105 - val_loss: 1.0484 - val_accuracy: 0.5949\n",
            "Epoch 2/20\n",
            "1/8 [==>...........................] - ETA: 0s - loss: 1.0495 - accuracy: 0.6250\n",
            "Epoch 2: val_accuracy improved from 0.59494 to 0.62025, saving model to best_model.h5\n",
            "8/8 [==============================] - 0s 9ms/step - loss: 1.0310 - accuracy: 0.5527 - val_loss: 1.0015 - val_accuracy: 0.6203\n",
            "Epoch 3/20\n",
            "1/8 [==>...........................] - ETA: 0s - loss: 1.0074 - accuracy: 0.4688\n",
            "Epoch 3: val_accuracy did not improve from 0.62025\n",
            "8/8 [==============================] - 0s 9ms/step - loss: 0.9827 - accuracy: 0.5654 - val_loss: 0.9528 - val_accuracy: 0.6203\n",
            "Epoch 4/20\n",
            "1/8 [==>...........................] - ETA: 0s - loss: 0.9560 - accuracy: 0.5312\n",
            "Epoch 4: val_accuracy did not improve from 0.62025\n",
            "8/8 [==============================] - 0s 8ms/step - loss: 0.9366 - accuracy: 0.5527 - val_loss: 0.9043 - val_accuracy: 0.6076\n",
            "Epoch 5/20\n",
            "1/8 [==>...........................] - ETA: 0s - loss: 0.9187 - accuracy: 0.5000\n",
            "Epoch 5: val_accuracy did not improve from 0.62025\n",
            "8/8 [==============================] - 0s 11ms/step - loss: 0.8892 - accuracy: 0.5485 - val_loss: 0.8587 - val_accuracy: 0.5949\n",
            "Epoch 6/20\n",
            "1/8 [==>...........................] - ETA: 0s - loss: 0.8606 - accuracy: 0.5625\n",
            "Epoch 6: val_accuracy did not improve from 0.62025\n",
            "8/8 [==============================] - 0s 6ms/step - loss: 0.8491 - accuracy: 0.5485 - val_loss: 0.8196 - val_accuracy: 0.5949\n",
            "Epoch 7/20\n",
            "1/8 [==>...........................] - ETA: 0s - loss: 0.8266 - accuracy: 0.5938\n",
            "Epoch 7: val_accuracy did not improve from 0.62025\n",
            "8/8 [==============================] - 0s 7ms/step - loss: 0.8154 - accuracy: 0.5527 - val_loss: 0.7884 - val_accuracy: 0.5949\n",
            "Epoch 7: early stopping\n"
          ]
        }
      ]
    },
    {
      "cell_type": "code",
      "source": [
        "pca = PCA(n_components=2)\n",
        "X_train_vectorized_2d = pca.fit_transform(X_train_vectorized)"
      ],
      "metadata": {
        "id": "ygjw4Aa5lu9A"
      },
      "execution_count": 60,
      "outputs": []
    },
    {
      "cell_type": "code",
      "source": [
        "plt.figure(figsize=(16, 8))\n",
        "_ = sns.scatterplot(\n",
        "    X_train_vectorized_2d[:, 0], X_train_vectorized_2d[:, 1], hue=y_train)"
      ],
      "metadata": {
        "colab": {
          "base_uri": "https://localhost:8080/",
          "height": 437
        },
        "id": "9BQqy4QPlw1u",
        "outputId": "d3ef5b32-4827-49db-9c13-27a6fa77a183"
      },
      "execution_count": 61,
      "outputs": [
        {
          "output_type": "display_data",
          "data": {
            "text/plain": [
              "<Figure size 1152x576 with 1 Axes>"
            ],
            "image/png": "[encoded data removed]"
          },
          "metadata": {
            "needs_background": "light"
          }
        }
      ]
    },
    {
      "cell_type": "markdown",
      "metadata": {
        "id": "E5mmYIfN8eYV"
      },
      "source": [
        "# **Question 4: Create your own training and evaluation data for sentiment analysis**"
      ]
    },
    {
      "cell_type": "markdown",
      "metadata": {
        "id": "hsi2y4z88ngX"
      },
      "source": [
        "(15 points). **You dodn't need to write program for this question!** Read each review (abstract or tweet) you collected in detail, and annotate each review with a sentiment (positive, negative, or neutral). Save the annotated dataset into a csv file with three columns (first column: document_id, clean_text, sentiment), upload the csv file to GitHub and submit the file link blew. This datset will be used for assignment four: sentiment analysis and text classification. \n"
      ]
    },
    {
      "cell_type": "code",
      "execution_count": 62,
      "metadata": {
        "colab": {
          "base_uri": "https://localhost:8080/"
        },
        "id": "XfvMKJjIXS5G",
        "outputId": "5f146d92-a3bc-45e0-a8bd-b6a90fcee803"
      },
      "outputs": [
        {
          "output_type": "stream",
          "name": "stderr",
          "text": [
            "Some weights of the model checkpoint at distilbert-base-uncased were not used when initializing DistilBertModel: ['vocab_transform.weight', 'vocab_projector.weight', 'vocab_layer_norm.weight', 'vocab_transform.bias', 'vocab_projector.bias', 'vocab_layer_norm.bias']\n",
            "- This IS expected if you are initializing DistilBertModel from the checkpoint of a model trained on another task or with another architecture (e.g. initializing a BertForSequenceClassification model from a BertForPreTraining model).\n",
            "- This IS NOT expected if you are initializing DistilBertModel from the checkpoint of a model that you expect to be exactly identical (initializing a BertForSequenceClassification model from a BertForSequenceClassification model).\n"
          ]
        }
      ],
      "source": [
        "model_class, tokenizer_class, pretrained_weights = (\n",
        "    transformers.DistilBertModel, transformers.DistilBertTokenizer, 'distilbert-base-uncased')\n",
        "tokenizer = tokenizer_class.from_pretrained(pretrained_weights)\n",
        "model = model_class.from_pretrained(pretrained_weights)"
      ]
    },
    {
      "cell_type": "code",
      "source": [
        "def get_vectors():\n",
        "    start = time.time()\n",
        "    k = 1000\n",
        "    for i in range(0, len(all_sentences), k):\n",
        "        with torch.no_grad():\n",
        "            last_hidden_states = model(\n",
        "                input_ids[i:i+k], attention_mask=input_ids[i:i+k])\n",
        "        vectors = np.concatenate([vectors, last_hidden_states[0].numpy(\n",
        "        )[:, 0, :]]) if i > 0 else last_hidden_states[0].numpy()[:, 0, :]\n",
        "    return vectors"
      ],
      "metadata": {
        "id": "4cIHYZolngsa"
      },
      "execution_count": 63,
      "outputs": []
    },
    {
      "cell_type": "code",
      "source": [
        "sequential = fit_sequential(X_train_vectorized, X_test_vectorized, epochs=10)"
      ],
      "metadata": {
        "colab": {
          "base_uri": "https://localhost:8080/"
        },
        "id": "-VfP6T5WnnU-",
        "outputId": "96ecc327-ed8c-4542-e281-ed34cc485965"
      },
      "execution_count": 64,
      "outputs": [
        {
          "output_type": "stream",
          "name": "stdout",
          "text": [
            "Epoch 1/10\n"
          ]
        },
        {
          "output_type": "stream",
          "name": "stderr",
          "text": [
            "/usr/local/lib/python3.7/dist-packages/tensorflow/python/util/dispatch.py:1082: UserWarning: \"`sparse_categorical_crossentropy` received `from_logits=True`, but the `output` argument was produced by a sigmoid or softmax activation and thus does not represent logits. Was this intended?\"\n",
            "  return dispatch_target(*args, **kwargs)\n"
          ]
        },
        {
          "output_type": "stream",
          "name": "stdout",
          "text": [
            "\r1/8 [==>...........................] - ETA: 3s - loss: 1.0993 - accuracy: 0.2188\n",
            "Epoch 1: val_accuracy improved from -inf to 0.60759, saving model to best_model.h5\n",
            "8/8 [==============================] - 1s 29ms/step - loss: 1.0802 - accuracy: 0.4684 - val_loss: 1.0532 - val_accuracy: 0.6076\n",
            "Epoch 2/10\n",
            "1/8 [==>...........................] - ETA: 0s - loss: 1.0548 - accuracy: 0.5000\n",
            "Epoch 2: val_accuracy did not improve from 0.60759\n",
            "8/8 [==============================] - 0s 9ms/step - loss: 1.0333 - accuracy: 0.5485 - val_loss: 1.0037 - val_accuracy: 0.6076\n",
            "Epoch 3/10\n",
            "1/8 [==>...........................] - ETA: 0s - loss: 1.0034 - accuracy: 0.5625\n",
            "Epoch 3: val_accuracy did not improve from 0.60759\n",
            "8/8 [==============================] - 0s 6ms/step - loss: 0.9852 - accuracy: 0.5485 - val_loss: 0.9537 - val_accuracy: 0.6076\n",
            "Epoch 4/10\n",
            "1/8 [==>...........................] - ETA: 0s - loss: 0.9606 - accuracy: 0.4688\n",
            "Epoch 4: val_accuracy did not improve from 0.60759\n",
            "8/8 [==============================] - 0s 10ms/step - loss: 0.9358 - accuracy: 0.5485 - val_loss: 0.9055 - val_accuracy: 0.5949\n",
            "Epoch 5/10\n",
            "1/8 [==>...........................] - ETA: 0s - loss: 0.9145 - accuracy: 0.5000\n",
            "Epoch 5: val_accuracy did not improve from 0.60759\n",
            "8/8 [==============================] - 0s 10ms/step - loss: 0.8905 - accuracy: 0.5527 - val_loss: 0.8609 - val_accuracy: 0.5949\n",
            "Epoch 6/10\n",
            "1/8 [==>...........................] - ETA: 0s - loss: 0.8754 - accuracy: 0.4688\n",
            "Epoch 6: val_accuracy did not improve from 0.60759\n",
            "8/8 [==============================] - 0s 7ms/step - loss: 0.8507 - accuracy: 0.5485 - val_loss: 0.8210 - val_accuracy: 0.5949\n",
            "Epoch 6: early stopping\n"
          ]
        }
      ]
    },
    {
      "cell_type": "code",
      "source": [
        "vectorizer = W2VTransformer(4)\n",
        "X_train_vectorized = vectorizer.fit_transform(X_train)\n",
        "X_test_vectorized = vectorizer.transform(X_test)\n",
        "sequential = fit_sequential(X_train_vectorized, X_test_vectorized)\n",
        "mapper = {0: \"negative\", 1: \"neutral\", 2: \"positive\"}\n",
        "\n",
        "def get_sentiment(model, vectorizer, mapper, text):\n",
        "    return mapper.get(np.argmax(max(model.predict(vectorizer.transform(pd.Series([text]))))))"
      ],
      "metadata": {
        "colab": {
          "base_uri": "https://localhost:8080/"
        },
        "id": "TViS9k14nu4q",
        "outputId": "633888a4-f930-44ab-bf7a-02bcdc3831f8"
      },
      "execution_count": 65,
      "outputs": [
        {
          "output_type": "stream",
          "name": "stderr",
          "text": [
            "WARNING:gensim.models.base_any2vec:under 10 jobs per worker: consider setting a smaller `batch_words' for smoother alpha decay\n"
          ]
        },
        {
          "output_type": "stream",
          "name": "stdout",
          "text": [
            "Epoch 1/20\n",
            "1/8 [==>...........................] - ETA: 3s - loss: 1.1017 - accuracy: 0.2500\n",
            "Epoch 1: val_accuracy improved from -inf to 0.56962, saving model to best_model.h5\n",
            "8/8 [==============================] - 1s 34ms/step - loss: 1.0791 - accuracy: 0.4515 - val_loss: 1.0465 - val_accuracy: 0.5696\n",
            "Epoch 2/20\n",
            "1/8 [==>...........................] - ETA: 0s - loss: 1.0448 - accuracy: 0.6250\n",
            "Epoch 2: val_accuracy improved from 0.56962 to 0.59494, saving model to best_model.h5\n",
            "8/8 [==============================] - 0s 10ms/step - loss: 1.0278 - accuracy: 0.5485 - val_loss: 0.9938 - val_accuracy: 0.5949\n",
            "Epoch 3/20\n",
            "1/8 [==>...........................] - ETA: 0s - loss: 1.0023 - accuracy: 0.4688\n",
            "Epoch 3: val_accuracy did not improve from 0.59494\n",
            "8/8 [==============================] - 0s 9ms/step - loss: 0.9777 - accuracy: 0.5485 - val_loss: 0.9423 - val_accuracy: 0.5949\n",
            "Epoch 4/20\n",
            "1/8 [==>...........................] - ETA: 0s - loss: 0.9565 - accuracy: 0.5000\n",
            "Epoch 4: val_accuracy did not improve from 0.59494\n",
            "8/8 [==============================] - 0s 9ms/step - loss: 0.9279 - accuracy: 0.5485 - val_loss: 0.8927 - val_accuracy: 0.5949\n",
            "Epoch 5/20\n",
            "1/8 [==>...........................] - ETA: 0s - loss: 0.9138 - accuracy: 0.4688\n",
            "Epoch 5: val_accuracy did not improve from 0.59494\n",
            "8/8 [==============================] - 0s 8ms/step - loss: 0.8821 - accuracy: 0.5485 - val_loss: 0.8484 - val_accuracy: 0.5949\n",
            "Epoch 6/20\n",
            "1/8 [==>...........................] - ETA: 0s - loss: 0.8511 - accuracy: 0.5625\n",
            "Epoch 6: val_accuracy did not improve from 0.59494\n",
            "8/8 [==============================] - 0s 11ms/step - loss: 0.8446 - accuracy: 0.5485 - val_loss: 0.8107 - val_accuracy: 0.5949\n",
            "Epoch 7/20\n",
            "1/8 [==>...........................] - ETA: 0s - loss: 0.8390 - accuracy: 0.5000\n",
            "Epoch 7: val_accuracy did not improve from 0.59494\n",
            "8/8 [==============================] - 0s 8ms/step - loss: 0.8107 - accuracy: 0.5485 - val_loss: 0.7827 - val_accuracy: 0.5949\n",
            "Epoch 7: early stopping\n"
          ]
        }
      ]
    },
    {
      "cell_type": "code",
      "source": [
        "get_sentiment(sequential, vectorizer, mapper, \"The new big one is huge\")"
      ],
      "metadata": {
        "colab": {
          "base_uri": "https://localhost:8080/",
          "height": 53
        },
        "id": "5FrWsK56nwGJ",
        "outputId": "9c60d6a3-2d13-407a-fdfb-58c28fe48a45"
      },
      "execution_count": null,
      "outputs": [
        {
          "output_type": "stream",
          "name": "stdout",
          "text": [
            "1/1 [==============================] - 0s 87ms/step\n"
          ]
        },
        {
          "output_type": "execute_result",
          "data": {
            "text/plain": [
              "'positive'"
            ],
            "application/vnd.google.colaboratory.intrinsic+json": {
              "type": "string"
            }
          },
          "metadata": {},
          "execution_count": 69
        }
      ]
    },
    {
      "cell_type": "code",
      "source": [
        "#Github URL \n",
        "https://github.com/Aranagut/INFO5731/blob/main/twitter.csv"
      ],
      "metadata": {
        "id": "zkmWWHNkTsDm"
      },
      "execution_count": null,
      "outputs": []
    }
  ],
  "metadata": {
    "colab": {
      "provenance": [],
      "include_colab_link": true
    },
    "kernelspec": {
      "display_name": "Python 3 (ipykernel)",
      "language": "python",
      "name": "python3"
    },
    "language_info": {
      "codemirror_mode": {
        "name": "ipython",
        "version": 3
      },
      "file_extension": ".py",
      "mimetype": "text/x-python",
      "name": "python",
      "nbconvert_exporter": "python",
      "pygments_lexer": "ipython3",
      "version": "3.9.12"
    }
  },
  "nbformat": 4,
  "nbformat_minor": 0
}