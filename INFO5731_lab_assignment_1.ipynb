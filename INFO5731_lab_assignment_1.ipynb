{
  "cells": [
    {
      "cell_type": "markdown",
      "metadata": {
        "id": "view-in-github",
        "colab_type": "text"
      },
      "source": [
        "<a href=\"https://colab.research.google.com/github/Aranagut/INFO5731/blob/main/INFO5731_lab_assignment_1.ipynb\" target=\"_parent\"><img src=\"https://colab.research.google.com/assets/colab-badge.svg\" alt=\"Open In Colab\"/></a>"
      ]
    },
    {
      "cell_type": "markdown",
      "metadata": {
        "id": "DymRJbxDBCnf"
      },
      "source": [
        "# **The first In-class-exercise (09/07/2022, 40 points in total)**"
      ]
    },
    {
      "cell_type": "markdown",
      "source": [
        "(1) Write a Python program to calculate the length of a string. (4 points)"
      ],
      "metadata": {
        "id": "CS0XbhTd_cLm"
      }
    },
    {
      "cell_type": "code",
      "source": [
        "string = input(\"Enter a string: \")\n",
        "\n",
        "print(\"Length of input string:\", len(string)) # using len() fun to find length of the str"
      ],
      "metadata": {
        "colab": {
          "base_uri": "https://localhost:8080/"
        },
        "id": "j4chhtCb_dQ4",
        "outputId": "b8448764-06fc-48ff-f098-092dc64ee39c"
      },
      "execution_count": null,
      "outputs": [
        {
          "output_type": "stream",
          "name": "stdout",
          "text": [
            "Enter a string: Tejaswini\n",
            "Length of input string: 9\n"
          ]
        }
      ]
    },
    {
      "cell_type": "markdown",
      "metadata": {
        "id": "jJDe71iLB616"
      },
      "source": [
        "(2) Write a Python program to count the number of characters in a string. (4 points)\n",
        "\n",
        "Sample String : 'google.com‘, \n",
        "\n",
        "Expected Result : {'o': 3, 'g': 2, '.': 1, 'e': 1, 'l': 1, 'm': 1, 'c': 1}"
      ]
    },
    {
      "cell_type": "code",
      "execution_count": null,
      "metadata": {
        "colab": {
          "base_uri": "https://localhost:8080/"
        },
        "id": "MtKskTzbCLaU",
        "outputId": "42135ba7-9e6a-4a41-b2af-092e443c13d4"
      },
      "outputs": [
        {
          "output_type": "stream",
          "name": "stdout",
          "text": [
            "Enter Desired String: google.com\n",
            "Counter({'o': 3, 'g': 2, 'l': 1, 'e': 1, '.': 1, 'c': 1, 'm': 1})\n"
          ]
        }
      ],
      "source": [
        "import collections\n",
        "\n",
        "def char_count():\n",
        "    x = input('Enter Desired String: ') # enter the desired string\n",
        "    return collections.Counter(list(x))\n",
        "print(char_count())"
      ]
    },
    {
      "cell_type": "markdown",
      "source": [
        "(3) Write a Python program to sum all the items in a list. (4 points)"
      ],
      "metadata": {
        "id": "CXkb8_liAYoQ"
      }
    },
    {
      "cell_type": "code",
      "execution_count": null,
      "metadata": {
        "colab": {
          "base_uri": "https://localhost:8080/"
        },
        "id": "I57NXsauCec2",
        "outputId": "a43ba3a4-a75f-473c-fbcb-15a948ea840c"
      },
      "outputs": [
        {
          "output_type": "stream",
          "name": "stdout",
          "text": [
            "Sum of all the items in the given list is: 75\n"
          ]
        }
      ],
      "source": [
        "#write your code here\n",
        "\n",
        "list_value = [5, 10, 15, 20, 25]\n",
        "sum = 0\n",
        "for num in list_value:\n",
        " sum = sum + num\n",
        "\n",
        "print(\"Sum of all the items in the given list is: {}\".format(sum))"
      ]
    },
    {
      "cell_type": "markdown",
      "metadata": {
        "id": "4ulBZ6yhCi9F"
      },
      "source": [
        "(4) Write a Python program to get a string from a given string where all occurrences of its first char have been changed to '\\$', except the first char itself. (4 points)\n",
        "\n",
        "Sample String : 'restart‘, \n",
        "\n",
        "Expected Result : 'resta\\$t'"
      ]
    },
    {
      "cell_type": "code",
      "execution_count": null,
      "metadata": {
        "colab": {
          "base_uri": "https://localhost:8080/"
        },
        "id": "Fj0XhwbBCw2o",
        "outputId": "09661379-4b60-463c-fd91-79703df78e4e"
      },
      "outputs": [
        {
          "output_type": "stream",
          "name": "stdout",
          "text": [
            "resta$t\n"
          ]
        }
      ],
      "source": [
        "input_string = \"restart\"\n",
        "\n",
        "print(\"\".join((input_string[0], input_string[1:].replace(input_string[0], \"$\"))))"
      ]
    },
    {
      "cell_type": "markdown",
      "metadata": {
        "id": "_bIP7s1MCzue"
      },
      "source": [
        "(5) Write a program with python which could accept two parameter a and b to calculate and output the result of S, where \n",
        "\n",
        "$\\ S=3.14*(1+a/b)^3$ (4 points)\n",
        "\n",
        "\n"
      ]
    },
    {
      "cell_type": "code",
      "execution_count": null,
      "metadata": {
        "colab": {
          "base_uri": "https://localhost:8080/"
        },
        "id": "w79QilHXD3Mg",
        "outputId": "1ab8f05c-dd6c-447f-c371-ea7d41be998a"
      },
      "outputs": [
        {
          "output_type": "stream",
          "name": "stdout",
          "text": [
            "Enter the value of a: 4\n",
            "Enter the value of b: 6\n",
            "The value of S is: 14.537037037037033\n"
          ]
        }
      ],
      "source": [
        "a = int(input(\"Enter the value of a: \"))\n",
        "b = int(input(\"Enter the value of b: \"))\n",
        "S = 3.14 * (1 + (a/b)) ** 3\n",
        "print(\"The value of S is: {}\".format(S))"
      ]
    },
    {
      "cell_type": "markdown",
      "metadata": {
        "id": "xCa2bK9aD4Q3"
      },
      "source": [
        "(6) Write a Python program to concatenate following dictionaries to create a new one. (4 points)\n",
        "\n",
        "Sample Dictionary : dic1={1:10, 2:20}, dic2={3:30, 4:40}, dic3={5:50,6:60}, \n",
        "\n",
        "Expected Result : {1: 10, 2: 20, 3: 30, 4: 40, 5: 50, 6: 60}"
      ]
    },
    {
      "cell_type": "code",
      "execution_count": null,
      "metadata": {
        "colab": {
          "base_uri": "https://localhost:8080/"
        },
        "id": "_z4aLqAbEET1",
        "outputId": "d56a6f93-fe05-4967-aec2-545246b7fd71"
      },
      "outputs": [
        {
          "output_type": "stream",
          "name": "stdout",
          "text": [
            "{1: 10, 2: 20, 3: 30, 4: 40, 5: 50, 6: 60}\n"
          ]
        }
      ],
      "source": [
        "dict1={1:10, 2:20}; dict2={3:30, 4:40}; dict3={5:50,6:60}\n",
        "\n",
        "result = {}\n",
        "for d in [dict1, dict2, dict3]:\n",
        "  result.update(d)\n",
        "\n",
        "print(result)"
      ]
    },
    {
      "cell_type": "markdown",
      "metadata": {
        "id": "0v48Vqa7FrQh"
      },
      "source": [
        "(7) Write a Python program to check whether an element exists within a tuple. (4 points)"
      ]
    },
    {
      "cell_type": "code",
      "execution_count": null,
      "metadata": {
        "colab": {
          "base_uri": "https://localhost:8080/"
        },
        "id": "7WEmgq-DF2P1",
        "outputId": "e87c9544-c780-411c-894e-49a6419da284"
      },
      "outputs": [
        {
          "output_type": "stream",
          "name": "stdout",
          "text": [
            "Enter the element you want to search in the tuple: Northtexas\n",
            "Element is not present in the given tuple\n"
          ]
        }
      ],
      "source": [
        "tuple = (\"Tejaswini\", \"Data Science\")\n",
        "\n",
        "ele = input(\"Enter the element you want to search in the tuple: \")\n",
        "\n",
        "if ele in tuple:\n",
        "  print(\"Element is present in the given tuple\")\n",
        "else:\n",
        "  print(\"Element is not present in the given tuple\")  "
      ]
    },
    {
      "cell_type": "markdown",
      "metadata": {
        "id": "vD5PYLMuGga_"
      },
      "source": [
        "(8) Write a Python program to find maximum and the minimum value in a set. (4 points)"
      ]
    },
    {
      "cell_type": "code",
      "execution_count": null,
      "metadata": {
        "colab": {
          "base_uri": "https://localhost:8080/"
        },
        "id": "t0D5kdJUGjjw",
        "outputId": "3cd699f4-9ad7-4bc8-8317-4bb66e79e2d1"
      },
      "outputs": [
        {
          "output_type": "stream",
          "name": "stdout",
          "text": [
            "Maximum value in set: 736\n",
            "Minimum value in set: 165\n"
          ]
        }
      ],
      "source": [
        "from typing import Set\n",
        "set_value = {165, 736, 177, 438, 286}\n",
        "print(\"Maximum value in set:\" , max(set_value))\n",
        "print(\"Minimum value in set:\", min(set_value))"
      ]
    },
    {
      "cell_type": "markdown",
      "metadata": {
        "id": "uHkd-y5VhVWC"
      },
      "source": [
        "(9) Write a Python program to randomly divide the students in this class into six groups for term projects, each group should have at least 4 students but no more than 6 students (including 6). Here is the students list: (4 points)\n",
        "\n",
        "studnet_list = ['ja0964','sa1198','sb1357','vb0218','sc1229','kg0569','kg0470','sg1297','bg0320','fh0141','jl1252','sk1386',\n",
        "           'ak0956','sk1390','sk1458','sk1313','ak0934','vm0377','nm0618','sm1640','sm1907','gn0108','pr0353','dr0609','ms1500','aos0040','ds0814', 'av0659','nv0234','hy0232']"
      ]
    },
    {
      "cell_type": "code",
      "execution_count": null,
      "metadata": {
        "colab": {
          "base_uri": "https://localhost:8080/"
        },
        "id": "3iGbmcOBhTwy",
        "outputId": "de691255-5fb1-4326-be9a-97ac0f32d22a"
      },
      "outputs": [
        {
          "output_type": "execute_result",
          "data": {
            "text/plain": [
              "[['ja0964', 'sa1198', 'sb1357', 'vb0218'],\n",
              " ['sc1229', 'kg0569', 'kg0470', 'sg1297', 'bg0320'],\n",
              " ['fh0141', 'jl1252', 'sk1386', 'ak0956'],\n",
              " ['sk1390', 'sk1458', 'sk1313', 'ak0934'],\n",
              " ['vm0377', 'nm0618', 'sm1640', 'sm1907'],\n",
              " ['gn0108', 'pr0353', 'dr0609', 'ms1500', 'aos0040'],\n",
              " ['ds0814', 'av0659', 'nv0234', 'hy0232']]"
            ]
          },
          "metadata": {},
          "execution_count": 21
        }
      ],
      "source": [
        "import random\n",
        "student_list = ['ja0964','sa1198','sb1357','vb0218','sc1229','kg0569','kg0470','sg1297','bg0320','fh0141','jl1252','sk1386', 'ak0956','sk1390','sk1458','sk1313',\n",
        "                'ak0934','vm0377','nm0618','sm1640',\n",
        "                'sm1907','gn0108','pr0353','dr0609','ms1500','aos0040','ds0814', 'av0659','nv0234','hy0232']\n",
        "def partition(student_list, n): \n",
        "    div = len(student_list) / float(n) \n",
        "    return [ student_list[int(round(div * x)): int(round(div * (x + 1)))] for x in range(n) ]\n",
        "\n",
        "partition(student_list,7)"
      ]
    },
    {
      "cell_type": "markdown",
      "metadata": {
        "id": "G1QhM78usVKN"
      },
      "source": [
        "(10) Write a Python program to find the duplicate elements in a given array of integers. Return -1 If there are no such elements. (4 points)"
      ]
    },
    {
      "cell_type": "code",
      "execution_count": null,
      "metadata": {
        "colab": {
          "base_uri": "https://localhost:8080/"
        },
        "id": "Ut9BTLKPsVKN",
        "outputId": "b028c3a8-23fb-49ae-8530-a1dd971d22e5"
      },
      "outputs": [
        {
          "output_type": "stream",
          "name": "stdout",
          "text": [
            "-1\n",
            "15\n"
          ]
        }
      ],
      "source": [
        "def duplicates(array):\n",
        "    given_arr = set()\n",
        "    output = -1\n",
        "    for r in range(len(array)):\n",
        "        if array[r] in given_arr:\n",
        "            return array[r]\n",
        "        else:\n",
        "            given_arr.add(array[r])\n",
        "    return output\n",
        "#array that has no duplicate values \n",
        "print(duplicates([5, 10, 15, 20, 25]))\n",
        "#array that has duplicate values \n",
        "print(duplicates([5, 10, 15, 25, 30, 15]))"
      ]
    },
    {
      "cell_type": "markdown",
      "metadata": {
        "id": "CRto4LzxsVKN"
      },
      "source": [
        "(11) Write a Python program to select all the Sundays of a specified year. (5 extra points)"
      ]
    },
    {
      "cell_type": "code",
      "execution_count": null,
      "metadata": {
        "colab": {
          "base_uri": "https://localhost:8080/"
        },
        "id": "H-JXr1mSsVKO",
        "outputId": "5157fa83-8a79-473c-fbdd-34dcf470bcc7"
      },
      "outputs": [
        {
          "output_type": "stream",
          "name": "stdout",
          "text": [
            "2022-01-02\n",
            "2022-01-09\n",
            "2022-01-16\n",
            "2022-01-23\n",
            "2022-01-30\n",
            "2022-02-06\n",
            "2022-02-13\n",
            "2022-02-20\n",
            "2022-02-27\n",
            "2022-03-06\n",
            "2022-03-13\n",
            "2022-03-20\n",
            "2022-03-27\n",
            "2022-04-03\n",
            "2022-04-10\n",
            "2022-04-17\n",
            "2022-04-24\n",
            "2022-05-01\n",
            "2022-05-08\n",
            "2022-05-15\n",
            "2022-05-22\n",
            "2022-05-29\n",
            "2022-06-05\n",
            "2022-06-12\n",
            "2022-06-19\n",
            "2022-06-26\n",
            "2022-07-03\n",
            "2022-07-10\n",
            "2022-07-17\n",
            "2022-07-24\n",
            "2022-07-31\n",
            "2022-08-07\n",
            "2022-08-14\n",
            "2022-08-21\n",
            "2022-08-28\n",
            "2022-09-04\n",
            "2022-09-11\n",
            "2022-09-18\n",
            "2022-09-25\n",
            "2022-10-02\n",
            "2022-10-09\n",
            "2022-10-16\n",
            "2022-10-23\n",
            "2022-10-30\n",
            "2022-11-06\n",
            "2022-11-13\n",
            "2022-11-20\n",
            "2022-11-27\n",
            "2022-12-04\n",
            "2022-12-11\n",
            "2022-12-18\n",
            "2022-12-25\n"
          ]
        }
      ],
      "source": [
        "from datetime import date, timedelta\n",
        "#here used import date and time functions\n",
        "def sundays(year):\n",
        "       date1 = date(year, 1, 1)\n",
        "       date1 += timedelta(days = 6 - date1.weekday())  \n",
        "       while date1.year == year:\n",
        "          yield date1\n",
        "          date1 += timedelta(days = 7)\n",
        "          \n",
        "for sun in sundays(2022):\n",
        "   print(sun)"
      ]
    }
  ],
  "metadata": {
    "colab": {
      "collapsed_sections": [],
      "provenance": [],
      "include_colab_link": true
    },
    "kernelspec": {
      "display_name": "Python 3",
      "language": "python",
      "name": "python3"
    },
    "language_info": {
      "codemirror_mode": {
        "name": "ipython",
        "version": 3
      },
      "file_extension": ".py",
      "mimetype": "text/x-python",
      "name": "python",
      "nbconvert_exporter": "python",
      "pygments_lexer": "ipython3",
      "version": "3.8.5"
    }
  },
  "nbformat": 4,
  "nbformat_minor": 0
}